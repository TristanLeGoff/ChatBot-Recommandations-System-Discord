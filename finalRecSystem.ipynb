{
 "metadata": {
  "language_info": {
   "codemirror_mode": {
    "name": "ipython",
    "version": 3
   },
   "file_extension": ".py",
   "mimetype": "text/x-python",
   "name": "python",
   "nbconvert_exporter": "python",
   "pygments_lexer": "ipython3",
   "version": "3.8.5-final"
  },
  "orig_nbformat": 2,
  "kernelspec": {
   "name": "python3",
   "display_name": "Python 3.8.5 64-bit",
   "metadata": {
    "interpreter": {
     "hash": "31f2aee4e71d21fbe5cf8b01ff0e069b9275f58929596ceb00d14d90e3e16cd6"
    }
   }
  }
 },
 "nbformat": 4,
 "nbformat_minor": 2,
 "cells": [
  {
   "cell_type": "code",
   "execution_count": 48,
   "metadata": {},
   "outputs": [
    {
     "output_type": "execute_result",
     "data": {
      "text/plain": [
       "game                                                007 Legends  0RBITALIS  \\\n",
       "game                                                                         \n",
       "007 Legends                                                 NaN        NaN   \n",
       "0RBITALIS                                                   NaN        NaN   \n",
       "1... 2... 3... KICK IT! (Drop That Beat Like an...          NaN        NaN   \n",
       "10 Second Ninja                                             NaN        NaN   \n",
       "10,000,000                                                  NaN        NaN   \n",
       "\n",
       "game                                                1... 2... 3... KICK IT! (Drop That Beat Like an Ugly Baby)  \\\n",
       "game                                                                                                             \n",
       "007 Legends                                                                                       NaN            \n",
       "0RBITALIS                                                                                         NaN            \n",
       "1... 2... 3... KICK IT! (Drop That Beat Like an...                                                NaN            \n",
       "10 Second Ninja                                                                                   NaN            \n",
       "10,000,000                                                                                        NaN            \n",
       "\n",
       "game                                                10 Second Ninja  \\\n",
       "game                                                                  \n",
       "007 Legends                                                     NaN   \n",
       "0RBITALIS                                                       NaN   \n",
       "1... 2... 3... KICK IT! (Drop That Beat Like an...              NaN   \n",
       "10 Second Ninja                                                 NaN   \n",
       "10,000,000                                                      NaN   \n",
       "\n",
       "game                                                10,000,000  \\\n",
       "game                                                             \n",
       "007 Legends                                                NaN   \n",
       "0RBITALIS                                                  NaN   \n",
       "1... 2... 3... KICK IT! (Drop That Beat Like an...         NaN   \n",
       "10 Second Ninja                                            NaN   \n",
       "10,000,000                                                 NaN   \n",
       "\n",
       "game                                                100% Orange Juice  \\\n",
       "game                                                                    \n",
       "007 Legends                                                       NaN   \n",
       "0RBITALIS                                                         NaN   \n",
       "1... 2... 3... KICK IT! (Drop That Beat Like an...                NaN   \n",
       "10 Second Ninja                                                   NaN   \n",
       "10,000,000                                                        NaN   \n",
       "\n",
       "game                                                1000 Amps  \\\n",
       "game                                                            \n",
       "007 Legends                                               NaN   \n",
       "0RBITALIS                                                 NaN   \n",
       "1... 2... 3... KICK IT! (Drop That Beat Like an...        NaN   \n",
       "10 Second Ninja                                           NaN   \n",
       "10,000,000                                                NaN   \n",
       "\n",
       "game                                                12 Labours of Hercules  \\\n",
       "game                                                                         \n",
       "007 Legends                                                            NaN   \n",
       "0RBITALIS                                                              NaN   \n",
       "1... 2... 3... KICK IT! (Drop That Beat Like an...                     NaN   \n",
       "10 Second Ninja                                                        NaN   \n",
       "10,000,000                                                             NaN   \n",
       "\n",
       "game                                                12 Labours of Hercules II The Cretan Bull  \\\n",
       "game                                                                                            \n",
       "007 Legends                                                                               NaN   \n",
       "0RBITALIS                                                                                 NaN   \n",
       "1... 2... 3... KICK IT! (Drop That Beat Like an...                                        NaN   \n",
       "10 Second Ninja                                                                           NaN   \n",
       "10,000,000                                                                                NaN   \n",
       "\n",
       "game                                                12 Labours of Hercules III Girl Power  \\\n",
       "game                                                                                        \n",
       "007 Legends                                                                           NaN   \n",
       "0RBITALIS                                                                             NaN   \n",
       "1... 2... 3... KICK IT! (Drop That Beat Like an...                                    NaN   \n",
       "10 Second Ninja                                                                       NaN   \n",
       "10,000,000                                                                            NaN   \n",
       "\n",
       "game                                                ...  rFactor  rFactor 2  \\\n",
       "game                                                ...                       \n",
       "007 Legends                                         ...      NaN        NaN   \n",
       "0RBITALIS                                           ...      NaN        NaN   \n",
       "1... 2... 3... KICK IT! (Drop That Beat Like an...  ...      NaN        NaN   \n",
       "10 Second Ninja                                     ...      NaN        NaN   \n",
       "10,000,000                                          ...      NaN        NaN   \n",
       "\n",
       "game                                                realMyst  \\\n",
       "game                                                           \n",
       "007 Legends                                              NaN   \n",
       "0RBITALIS                                                NaN   \n",
       "1... 2... 3... KICK IT! (Drop That Beat Like an...       NaN   \n",
       "10 Second Ninja                                          NaN   \n",
       "10,000,000                                               NaN   \n",
       "\n",
       "game                                                realMyst Masterpiece Edition  \\\n",
       "game                                                                               \n",
       "007 Legends                                                                  NaN   \n",
       "0RBITALIS                                                                    NaN   \n",
       "1... 2... 3... KICK IT! (Drop That Beat Like an...                           NaN   \n",
       "10 Second Ninja                                                              NaN   \n",
       "10,000,000                                                                   NaN   \n",
       "\n",
       "game                                                resident evil 4 / biohazard 4  \\\n",
       "game                                                                                \n",
       "007 Legends                                                                   NaN   \n",
       "0RBITALIS                                                                     NaN   \n",
       "1... 2... 3... KICK IT! (Drop That Beat Like an...                            NaN   \n",
       "10 Second Ninja                                                               NaN   \n",
       "10,000,000                                                                    NaN   \n",
       "\n",
       "game                                                rymdkapsel  sZone-Online  \\\n",
       "game                                                                           \n",
       "007 Legends                                                NaN           NaN   \n",
       "0RBITALIS                                                  NaN           NaN   \n",
       "1... 2... 3... KICK IT! (Drop That Beat Like an...         NaN           NaN   \n",
       "10 Second Ninja                                            NaN           NaN   \n",
       "10,000,000                                                 NaN           NaN   \n",
       "\n",
       "game                                                the static speaks my name  \\\n",
       "game                                                                            \n",
       "007 Legends                                                               NaN   \n",
       "0RBITALIS                                                                 NaN   \n",
       "1... 2... 3... KICK IT! (Drop That Beat Like an...                        NaN   \n",
       "10 Second Ninja                                                           NaN   \n",
       "10,000,000                                                                NaN   \n",
       "\n",
       "game                                                theHunter  \\\n",
       "game                                                            \n",
       "007 Legends                                               NaN   \n",
       "0RBITALIS                                                 NaN   \n",
       "1... 2... 3... KICK IT! (Drop That Beat Like an...        NaN   \n",
       "10 Second Ninja                                           NaN   \n",
       "10,000,000                                                NaN   \n",
       "\n",
       "game                                                theHunter Primal  \n",
       "game                                                                  \n",
       "007 Legends                                                      NaN  \n",
       "0RBITALIS                                                        NaN  \n",
       "1... 2... 3... KICK IT! (Drop That Beat Like an...               NaN  \n",
       "10 Second Ninja                                                  NaN  \n",
       "10,000,000                                                       NaN  \n",
       "\n",
       "[5 rows x 3600 columns]"
      ],
      "text/html": "<div>\n<style scoped>\n    .dataframe tbody tr th:only-of-type {\n        vertical-align: middle;\n    }\n\n    .dataframe tbody tr th {\n        vertical-align: top;\n    }\n\n    .dataframe thead th {\n        text-align: right;\n    }\n</style>\n<table border=\"1\" class=\"dataframe\">\n  <thead>\n    <tr style=\"text-align: right;\">\n      <th>game</th>\n      <th>007 Legends</th>\n      <th>0RBITALIS</th>\n      <th>1... 2... 3... KICK IT! (Drop That Beat Like an Ugly Baby)</th>\n      <th>10 Second Ninja</th>\n      <th>10,000,000</th>\n      <th>100% Orange Juice</th>\n      <th>1000 Amps</th>\n      <th>12 Labours of Hercules</th>\n      <th>12 Labours of Hercules II The Cretan Bull</th>\n      <th>12 Labours of Hercules III Girl Power</th>\n      <th>...</th>\n      <th>rFactor</th>\n      <th>rFactor 2</th>\n      <th>realMyst</th>\n      <th>realMyst Masterpiece Edition</th>\n      <th>resident evil 4 / biohazard 4</th>\n      <th>rymdkapsel</th>\n      <th>sZone-Online</th>\n      <th>the static speaks my name</th>\n      <th>theHunter</th>\n      <th>theHunter Primal</th>\n    </tr>\n    <tr>\n      <th>game</th>\n      <th></th>\n      <th></th>\n      <th></th>\n      <th></th>\n      <th></th>\n      <th></th>\n      <th></th>\n      <th></th>\n      <th></th>\n      <th></th>\n      <th></th>\n      <th></th>\n      <th></th>\n      <th></th>\n      <th></th>\n      <th></th>\n      <th></th>\n      <th></th>\n      <th></th>\n      <th></th>\n      <th></th>\n    </tr>\n  </thead>\n  <tbody>\n    <tr>\n      <th>007 Legends</th>\n      <td>NaN</td>\n      <td>NaN</td>\n      <td>NaN</td>\n      <td>NaN</td>\n      <td>NaN</td>\n      <td>NaN</td>\n      <td>NaN</td>\n      <td>NaN</td>\n      <td>NaN</td>\n      <td>NaN</td>\n      <td>...</td>\n      <td>NaN</td>\n      <td>NaN</td>\n      <td>NaN</td>\n      <td>NaN</td>\n      <td>NaN</td>\n      <td>NaN</td>\n      <td>NaN</td>\n      <td>NaN</td>\n      <td>NaN</td>\n      <td>NaN</td>\n    </tr>\n    <tr>\n      <th>0RBITALIS</th>\n      <td>NaN</td>\n      <td>NaN</td>\n      <td>NaN</td>\n      <td>NaN</td>\n      <td>NaN</td>\n      <td>NaN</td>\n      <td>NaN</td>\n      <td>NaN</td>\n      <td>NaN</td>\n      <td>NaN</td>\n      <td>...</td>\n      <td>NaN</td>\n      <td>NaN</td>\n      <td>NaN</td>\n      <td>NaN</td>\n      <td>NaN</td>\n      <td>NaN</td>\n      <td>NaN</td>\n      <td>NaN</td>\n      <td>NaN</td>\n      <td>NaN</td>\n    </tr>\n    <tr>\n      <th>1... 2... 3... KICK IT! (Drop That Beat Like an Ugly Baby)</th>\n      <td>NaN</td>\n      <td>NaN</td>\n      <td>NaN</td>\n      <td>NaN</td>\n      <td>NaN</td>\n      <td>NaN</td>\n      <td>NaN</td>\n      <td>NaN</td>\n      <td>NaN</td>\n      <td>NaN</td>\n      <td>...</td>\n      <td>NaN</td>\n      <td>NaN</td>\n      <td>NaN</td>\n      <td>NaN</td>\n      <td>NaN</td>\n      <td>NaN</td>\n      <td>NaN</td>\n      <td>NaN</td>\n      <td>NaN</td>\n      <td>NaN</td>\n    </tr>\n    <tr>\n      <th>10 Second Ninja</th>\n      <td>NaN</td>\n      <td>NaN</td>\n      <td>NaN</td>\n      <td>NaN</td>\n      <td>NaN</td>\n      <td>NaN</td>\n      <td>NaN</td>\n      <td>NaN</td>\n      <td>NaN</td>\n      <td>NaN</td>\n      <td>...</td>\n      <td>NaN</td>\n      <td>NaN</td>\n      <td>NaN</td>\n      <td>NaN</td>\n      <td>NaN</td>\n      <td>NaN</td>\n      <td>NaN</td>\n      <td>NaN</td>\n      <td>NaN</td>\n      <td>NaN</td>\n    </tr>\n    <tr>\n      <th>10,000,000</th>\n      <td>NaN</td>\n      <td>NaN</td>\n      <td>NaN</td>\n      <td>NaN</td>\n      <td>NaN</td>\n      <td>NaN</td>\n      <td>NaN</td>\n      <td>NaN</td>\n      <td>NaN</td>\n      <td>NaN</td>\n      <td>...</td>\n      <td>NaN</td>\n      <td>NaN</td>\n      <td>NaN</td>\n      <td>NaN</td>\n      <td>NaN</td>\n      <td>NaN</td>\n      <td>NaN</td>\n      <td>NaN</td>\n      <td>NaN</td>\n      <td>NaN</td>\n    </tr>\n  </tbody>\n</table>\n<p>5 rows × 3600 columns</p>\n</div>"
     },
     "metadata": {},
     "execution_count": 48
    }
   ],
   "source": [
    "import pandas as pd\n",
    "\n",
    "corrMatrix = pd.read_pickle(r\"corrMatrix.pkl\")\n",
    "corrMatrix.head()"
   ]
  },
  {
   "cell_type": "code",
   "execution_count": 49,
   "metadata": {},
   "outputs": [
    {
     "output_type": "execute_result",
     "data": {
      "text/plain": [
       "Index(['007 Legends', '0RBITALIS',\n",
       "       '1... 2... 3... KICK IT! (Drop That Beat Like an Ugly Baby)',\n",
       "       '10 Second Ninja', '10,000,000', '100% Orange Juice', '1000 Amps',\n",
       "       '12 Labours of Hercules', '12 Labours of Hercules II The Cretan Bull',\n",
       "       '12 Labours of Hercules III Girl Power',\n",
       "       ...\n",
       "       'rFactor', 'rFactor 2', 'realMyst', 'realMyst Masterpiece Edition',\n",
       "       'resident evil 4 / biohazard 4', 'rymdkapsel', 'sZone-Online',\n",
       "       'the static speaks my name', 'theHunter', 'theHunter Primal'],\n",
       "      dtype='object', name='game', length=3600)"
      ]
     },
     "metadata": {},
     "execution_count": 49
    }
   ],
   "source": [
    "corrMatrix.index"
   ]
  },
  {
   "cell_type": "code",
   "execution_count": 50,
   "metadata": {},
   "outputs": [
    {
     "output_type": "stream",
     "name": "stdout",
     "text": [
      "                                game rating\n0            The Witcher 3 Wild Hunt      5\n1  Dark Souls Prepare to Die Edition      5\n2                      Rocket League      5\n"
     ]
    }
   ],
   "source": [
    "myRatings = None\n",
    "myRatings = pd.DataFrame(columns=['game', 'rating'])\n",
    "myRatings = myRatings.append({'game':'The Witcher 3 Wild Hunt', 'rating':5}, ignore_index=True)\n",
    "myRatings = myRatings.append({'game':'Dark Souls Prepare to Die Edition', 'rating':5}, ignore_index=True)\n",
    "myRatings = myRatings.append({'game':'Rocket League', 'rating':5}, ignore_index=True)\n",
    "print(myRatings)"
   ]
  },
  {
   "cell_type": "code",
   "execution_count": 51,
   "metadata": {},
   "outputs": [
    {
     "output_type": "execute_result",
     "data": {
      "text/plain": [
       "5"
      ]
     },
     "metadata": {},
     "execution_count": 51
    }
   ],
   "source": [
    "myRatings.iloc[0]['rating']"
   ]
  },
  {
   "cell_type": "code",
   "execution_count": 52,
   "metadata": {},
   "outputs": [
    {
     "output_type": "stream",
     "name": "stdout",
     "text": [
      "Adding similar movies for The Witcher 3 Wild Hunt...\n",
      "Adding similar movies for Dark Souls Prepare to Die Edition...\n",
      "Adding similar movies for Rocket League...\n",
      "Sort recommendations...\n",
      "Index(['XCOM Enemy Unknown', 'Dishonored', 'Middle-earth Shadow of Mordor',\n",
      "       'BioShock Infinite', 'Fallout New Vegas', 'Kerbal Space Program',\n",
      "       'Crysis 2 Maximum Edition', 'DARK SOULS II', 'Left 4 Dead 2',\n",
      "       'Alien Swarm'],\n",
      "      dtype='object')\n"
     ]
    }
   ],
   "source": [
    "myRatings = myRatings.set_index('game')\n",
    "similar_candidates = pd.Series(dtype='float64')\n",
    "for i in range(0, len(myRatings.index)):\n",
    "    print(\"Adding similar movies for \" + myRatings.index[i] + \"...\")\n",
    "    # retrieve similar movies to this one that I rated\n",
    "    similar_movies = corrMatrix[myRatings.index[i]].dropna()\n",
    "    # scale its similarity by how well I rated this movie\n",
    "    similar_movies = similar_movies.map(lambda x: x * myRatings.iloc[i]['rating'])\n",
    "    # add the score to the list of similar candidates\n",
    "    similar_candidates = similar_candidates.append(similar_movies)\n",
    "    \n",
    "print(\"Sort recommendations...\")\n",
    "# similar_candidates.sort_values(inplace = True, ascending = False)\n",
    "# print(similar_candidates.head(10))\n",
    "\n",
    "similar_candidates = similar_candidates.groupby(similar_candidates.index).sum()\n",
    "similar_candidates = similar_candidates.drop(similar_candidates.loc[similar_candidates.index.isin(myRatings.index)].index)\n",
    "\n",
    "similar_candidates.sort_values(inplace = True, ascending = False)\n",
    "# similar_candidates.head(10)\n",
    "print(similar_candidates[0:10].index)"
   ]
  }
 ]
}