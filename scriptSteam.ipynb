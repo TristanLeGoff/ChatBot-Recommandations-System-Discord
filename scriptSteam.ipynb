{
 "metadata": {
  "language_info": {
   "codemirror_mode": {
    "name": "ipython",
    "version": 3
   },
   "file_extension": ".py",
   "mimetype": "text/x-python",
   "name": "python",
   "nbconvert_exporter": "python",
   "pygments_lexer": "ipython3",
   "version": "3.8.5-final"
  },
  "orig_nbformat": 2,
  "kernelspec": {
   "name": "python3",
   "display_name": "Python 3.8.5 64-bit",
   "metadata": {
    "interpreter": {
     "hash": "31f2aee4e71d21fbe5cf8b01ff0e069b9275f58929596ceb00d14d90e3e16cd6"
    }
   }
  }
 },
 "nbformat": 4,
 "nbformat_minor": 2,
 "cells": [
  {
   "cell_type": "code",
   "execution_count": 1,
   "metadata": {},
   "outputs": [
    {
     "output_type": "stream",
     "name": "stdout",
     "text": [
      "      userId                        game playOrPurchase  hourPlayed  rating\n0  151603712  The Elder Scrolls V Skyrim       purchase         1.0       0\n1  151603712  The Elder Scrolls V Skyrim           play       273.0       0\n2  151603712                   Fallout 4       purchase         1.0       0\n3  151603712                   Fallout 4           play        87.0       0\n4  151603712                       Spore       purchase         1.0       0\n"
     ]
    }
   ],
   "source": [
    "import pandas as pd\n",
    "import numpy as np\n",
    "from math import *\n",
    "import pickle5 as pickle\n",
    "\n",
    "df = pd.read_csv(r'steam-200k.csv')\n",
    "print(df.head())"
   ]
  },
  {
   "cell_type": "code",
   "execution_count": 2,
   "metadata": {},
   "outputs": [],
   "source": [
    "# df.loc[df['hourPlayed']>50]\n",
    "# df.loc[(df['userId']==151603712)]\n",
    "df = df.drop(df.loc[df['playOrPurchase']==\"purchase\"].index)\n",
    "df = df.drop(columns=['playOrPurchase'])"
   ]
  },
  {
   "cell_type": "code",
   "execution_count": 3,
   "metadata": {},
   "outputs": [],
   "source": [
    "df.loc[(df['hourPlayed']>50),'rating'] = 5\n",
    "df.loc[(df['hourPlayed']>10) & (df['hourPlayed']<=50),'rating'] = 4\n",
    "df.loc[(df['hourPlayed']>5) & (df['hourPlayed']<=10),'rating'] = 3\n",
    "df.loc[(df['hourPlayed']>1) & (df['hourPlayed']<=5),'rating'] = 2\n",
    "df.loc[(df['hourPlayed']<=1),'rating'] = 1"
   ]
  },
  {
   "cell_type": "code",
   "execution_count": 4,
   "metadata": {},
   "outputs": [
    {
     "output_type": "execute_result",
     "data": {
      "text/plain": [
       "           userId                        game  hourPlayed  rating\n",
       "1       151603712  The Elder Scrolls V Skyrim       273.0       5\n",
       "3       151603712                   Fallout 4        87.0       5\n",
       "5       151603712                       Spore        14.9       4\n",
       "7       151603712           Fallout New Vegas        12.1       4\n",
       "9       151603712               Left 4 Dead 2         8.9       3\n",
       "...           ...                         ...         ...     ...\n",
       "199991  128470551                Fallen Earth         2.4       2\n",
       "199993  128470551                 Magic Duels         2.2       2\n",
       "199995  128470551                 Titan Souls         1.5       2\n",
       "199997  128470551  Grand Theft Auto Vice City         1.5       2\n",
       "199999  128470551                        RUSH         1.4       2\n",
       "\n",
       "[70489 rows x 4 columns]"
      ],
      "text/html": "<div>\n<style scoped>\n    .dataframe tbody tr th:only-of-type {\n        vertical-align: middle;\n    }\n\n    .dataframe tbody tr th {\n        vertical-align: top;\n    }\n\n    .dataframe thead th {\n        text-align: right;\n    }\n</style>\n<table border=\"1\" class=\"dataframe\">\n  <thead>\n    <tr style=\"text-align: right;\">\n      <th></th>\n      <th>userId</th>\n      <th>game</th>\n      <th>hourPlayed</th>\n      <th>rating</th>\n    </tr>\n  </thead>\n  <tbody>\n    <tr>\n      <th>1</th>\n      <td>151603712</td>\n      <td>The Elder Scrolls V Skyrim</td>\n      <td>273.0</td>\n      <td>5</td>\n    </tr>\n    <tr>\n      <th>3</th>\n      <td>151603712</td>\n      <td>Fallout 4</td>\n      <td>87.0</td>\n      <td>5</td>\n    </tr>\n    <tr>\n      <th>5</th>\n      <td>151603712</td>\n      <td>Spore</td>\n      <td>14.9</td>\n      <td>4</td>\n    </tr>\n    <tr>\n      <th>7</th>\n      <td>151603712</td>\n      <td>Fallout New Vegas</td>\n      <td>12.1</td>\n      <td>4</td>\n    </tr>\n    <tr>\n      <th>9</th>\n      <td>151603712</td>\n      <td>Left 4 Dead 2</td>\n      <td>8.9</td>\n      <td>3</td>\n    </tr>\n    <tr>\n      <th>...</th>\n      <td>...</td>\n      <td>...</td>\n      <td>...</td>\n      <td>...</td>\n    </tr>\n    <tr>\n      <th>199991</th>\n      <td>128470551</td>\n      <td>Fallen Earth</td>\n      <td>2.4</td>\n      <td>2</td>\n    </tr>\n    <tr>\n      <th>199993</th>\n      <td>128470551</td>\n      <td>Magic Duels</td>\n      <td>2.2</td>\n      <td>2</td>\n    </tr>\n    <tr>\n      <th>199995</th>\n      <td>128470551</td>\n      <td>Titan Souls</td>\n      <td>1.5</td>\n      <td>2</td>\n    </tr>\n    <tr>\n      <th>199997</th>\n      <td>128470551</td>\n      <td>Grand Theft Auto Vice City</td>\n      <td>1.5</td>\n      <td>2</td>\n    </tr>\n    <tr>\n      <th>199999</th>\n      <td>128470551</td>\n      <td>RUSH</td>\n      <td>1.4</td>\n      <td>2</td>\n    </tr>\n  </tbody>\n</table>\n<p>70489 rows × 4 columns</p>\n</div>"
     },
     "metadata": {},
     "execution_count": 4
    }
   ],
   "source": [
    "df"
   ]
  },
  {
   "cell_type": "code",
   "execution_count": 5,
   "metadata": {},
   "outputs": [
    {
     "output_type": "execute_result",
     "data": {
      "text/plain": [
       "game    007 Legends  0RBITALIS  \\\n",
       "userId                           \n",
       "5250            NaN        NaN   \n",
       "76767           NaN        NaN   \n",
       "86540           NaN        NaN   \n",
       "144736          NaN        NaN   \n",
       "181212          NaN        NaN   \n",
       "\n",
       "game    1... 2... 3... KICK IT! (Drop That Beat Like an Ugly Baby)  \\\n",
       "userId                                                               \n",
       "5250                                                  NaN            \n",
       "76767                                                 NaN            \n",
       "86540                                                 NaN            \n",
       "144736                                                NaN            \n",
       "181212                                                NaN            \n",
       "\n",
       "game    10 Second Ninja  10,000,000  100% Orange Juice  1000 Amps  \\\n",
       "userId                                                              \n",
       "5250                NaN         NaN                NaN        NaN   \n",
       "76767               NaN         NaN                NaN        NaN   \n",
       "86540               NaN         NaN                NaN        NaN   \n",
       "144736              NaN         NaN                NaN        NaN   \n",
       "181212              NaN         NaN                NaN        NaN   \n",
       "\n",
       "game    12 Labours of Hercules  12 Labours of Hercules II The Cretan Bull  \\\n",
       "userId                                                                      \n",
       "5250                       NaN                                        NaN   \n",
       "76767                      NaN                                        NaN   \n",
       "86540                      NaN                                        NaN   \n",
       "144736                     NaN                                        NaN   \n",
       "181212                     NaN                                        NaN   \n",
       "\n",
       "game    12 Labours of Hercules III Girl Power  ...  rFactor  rFactor 2  \\\n",
       "userId                                         ...                       \n",
       "5250                                      NaN  ...      NaN        NaN   \n",
       "76767                                     NaN  ...      NaN        NaN   \n",
       "86540                                     NaN  ...      NaN        NaN   \n",
       "144736                                    NaN  ...      NaN        NaN   \n",
       "181212                                    NaN  ...      NaN        NaN   \n",
       "\n",
       "game    realMyst  realMyst Masterpiece Edition  resident evil 4 / biohazard 4  \\\n",
       "userId                                                                          \n",
       "5250         NaN                           NaN                            NaN   \n",
       "76767        NaN                           NaN                            NaN   \n",
       "86540        NaN                           NaN                            NaN   \n",
       "144736       NaN                           NaN                            NaN   \n",
       "181212       NaN                           NaN                            NaN   \n",
       "\n",
       "game    rymdkapsel  sZone-Online  the static speaks my name  theHunter  \\\n",
       "userId                                                                   \n",
       "5250           NaN           NaN                        NaN        NaN   \n",
       "76767          NaN           NaN                        NaN        NaN   \n",
       "86540          NaN           NaN                        NaN        NaN   \n",
       "144736         NaN           NaN                        NaN        NaN   \n",
       "181212         NaN           NaN                        NaN        NaN   \n",
       "\n",
       "game    theHunter Primal  \n",
       "userId                    \n",
       "5250                 NaN  \n",
       "76767                NaN  \n",
       "86540                NaN  \n",
       "144736               NaN  \n",
       "181212               NaN  \n",
       "\n",
       "[5 rows x 3600 columns]"
      ],
      "text/html": "<div>\n<style scoped>\n    .dataframe tbody tr th:only-of-type {\n        vertical-align: middle;\n    }\n\n    .dataframe tbody tr th {\n        vertical-align: top;\n    }\n\n    .dataframe thead th {\n        text-align: right;\n    }\n</style>\n<table border=\"1\" class=\"dataframe\">\n  <thead>\n    <tr style=\"text-align: right;\">\n      <th>game</th>\n      <th>007 Legends</th>\n      <th>0RBITALIS</th>\n      <th>1... 2... 3... KICK IT! (Drop That Beat Like an Ugly Baby)</th>\n      <th>10 Second Ninja</th>\n      <th>10,000,000</th>\n      <th>100% Orange Juice</th>\n      <th>1000 Amps</th>\n      <th>12 Labours of Hercules</th>\n      <th>12 Labours of Hercules II The Cretan Bull</th>\n      <th>12 Labours of Hercules III Girl Power</th>\n      <th>...</th>\n      <th>rFactor</th>\n      <th>rFactor 2</th>\n      <th>realMyst</th>\n      <th>realMyst Masterpiece Edition</th>\n      <th>resident evil 4 / biohazard 4</th>\n      <th>rymdkapsel</th>\n      <th>sZone-Online</th>\n      <th>the static speaks my name</th>\n      <th>theHunter</th>\n      <th>theHunter Primal</th>\n    </tr>\n    <tr>\n      <th>userId</th>\n      <th></th>\n      <th></th>\n      <th></th>\n      <th></th>\n      <th></th>\n      <th></th>\n      <th></th>\n      <th></th>\n      <th></th>\n      <th></th>\n      <th></th>\n      <th></th>\n      <th></th>\n      <th></th>\n      <th></th>\n      <th></th>\n      <th></th>\n      <th></th>\n      <th></th>\n      <th></th>\n      <th></th>\n    </tr>\n  </thead>\n  <tbody>\n    <tr>\n      <th>5250</th>\n      <td>NaN</td>\n      <td>NaN</td>\n      <td>NaN</td>\n      <td>NaN</td>\n      <td>NaN</td>\n      <td>NaN</td>\n      <td>NaN</td>\n      <td>NaN</td>\n      <td>NaN</td>\n      <td>NaN</td>\n      <td>...</td>\n      <td>NaN</td>\n      <td>NaN</td>\n      <td>NaN</td>\n      <td>NaN</td>\n      <td>NaN</td>\n      <td>NaN</td>\n      <td>NaN</td>\n      <td>NaN</td>\n      <td>NaN</td>\n      <td>NaN</td>\n    </tr>\n    <tr>\n      <th>76767</th>\n      <td>NaN</td>\n      <td>NaN</td>\n      <td>NaN</td>\n      <td>NaN</td>\n      <td>NaN</td>\n      <td>NaN</td>\n      <td>NaN</td>\n      <td>NaN</td>\n      <td>NaN</td>\n      <td>NaN</td>\n      <td>...</td>\n      <td>NaN</td>\n      <td>NaN</td>\n      <td>NaN</td>\n      <td>NaN</td>\n      <td>NaN</td>\n      <td>NaN</td>\n      <td>NaN</td>\n      <td>NaN</td>\n      <td>NaN</td>\n      <td>NaN</td>\n    </tr>\n    <tr>\n      <th>86540</th>\n      <td>NaN</td>\n      <td>NaN</td>\n      <td>NaN</td>\n      <td>NaN</td>\n      <td>NaN</td>\n      <td>NaN</td>\n      <td>NaN</td>\n      <td>NaN</td>\n      <td>NaN</td>\n      <td>NaN</td>\n      <td>...</td>\n      <td>NaN</td>\n      <td>NaN</td>\n      <td>NaN</td>\n      <td>NaN</td>\n      <td>NaN</td>\n      <td>NaN</td>\n      <td>NaN</td>\n      <td>NaN</td>\n      <td>NaN</td>\n      <td>NaN</td>\n    </tr>\n    <tr>\n      <th>144736</th>\n      <td>NaN</td>\n      <td>NaN</td>\n      <td>NaN</td>\n      <td>NaN</td>\n      <td>NaN</td>\n      <td>NaN</td>\n      <td>NaN</td>\n      <td>NaN</td>\n      <td>NaN</td>\n      <td>NaN</td>\n      <td>...</td>\n      <td>NaN</td>\n      <td>NaN</td>\n      <td>NaN</td>\n      <td>NaN</td>\n      <td>NaN</td>\n      <td>NaN</td>\n      <td>NaN</td>\n      <td>NaN</td>\n      <td>NaN</td>\n      <td>NaN</td>\n    </tr>\n    <tr>\n      <th>181212</th>\n      <td>NaN</td>\n      <td>NaN</td>\n      <td>NaN</td>\n      <td>NaN</td>\n      <td>NaN</td>\n      <td>NaN</td>\n      <td>NaN</td>\n      <td>NaN</td>\n      <td>NaN</td>\n      <td>NaN</td>\n      <td>...</td>\n      <td>NaN</td>\n      <td>NaN</td>\n      <td>NaN</td>\n      <td>NaN</td>\n      <td>NaN</td>\n      <td>NaN</td>\n      <td>NaN</td>\n      <td>NaN</td>\n      <td>NaN</td>\n      <td>NaN</td>\n    </tr>\n  </tbody>\n</table>\n<p>5 rows × 3600 columns</p>\n</div>"
     },
     "metadata": {},
     "execution_count": 5
    }
   ],
   "source": [
    "userRatings = df.pivot_table(index=['userId'],columns=['game'],values='rating')\n",
    "userRatings.head()"
   ]
  },
  {
   "cell_type": "code",
   "execution_count": 6,
   "metadata": {},
   "outputs": [],
   "source": [
    "# corrMatrix = userRatings.corr()\n",
    "# corrMatrix.head()"
   ]
  },
  {
   "cell_type": "code",
   "execution_count": 7,
   "metadata": {},
   "outputs": [
    {
     "output_type": "execute_result",
     "data": {
      "text/plain": [
       "game                                                007 Legends  0RBITALIS  \\\n",
       "game                                                                         \n",
       "007 Legends                                                 NaN        NaN   \n",
       "0RBITALIS                                                   NaN        NaN   \n",
       "1... 2... 3... KICK IT! (Drop That Beat Like an...          NaN        NaN   \n",
       "10 Second Ninja                                             NaN        NaN   \n",
       "10,000,000                                                  NaN        NaN   \n",
       "\n",
       "game                                                1... 2... 3... KICK IT! (Drop That Beat Like an Ugly Baby)  \\\n",
       "game                                                                                                             \n",
       "007 Legends                                                                                       NaN            \n",
       "0RBITALIS                                                                                         NaN            \n",
       "1... 2... 3... KICK IT! (Drop That Beat Like an...                                                NaN            \n",
       "10 Second Ninja                                                                                   NaN            \n",
       "10,000,000                                                                                        NaN            \n",
       "\n",
       "game                                                10 Second Ninja  \\\n",
       "game                                                                  \n",
       "007 Legends                                                     NaN   \n",
       "0RBITALIS                                                       NaN   \n",
       "1... 2... 3... KICK IT! (Drop That Beat Like an...              NaN   \n",
       "10 Second Ninja                                                 NaN   \n",
       "10,000,000                                                      NaN   \n",
       "\n",
       "game                                                10,000,000  \\\n",
       "game                                                             \n",
       "007 Legends                                                NaN   \n",
       "0RBITALIS                                                  NaN   \n",
       "1... 2... 3... KICK IT! (Drop That Beat Like an...         NaN   \n",
       "10 Second Ninja                                            NaN   \n",
       "10,000,000                                                 NaN   \n",
       "\n",
       "game                                                100% Orange Juice  \\\n",
       "game                                                                    \n",
       "007 Legends                                                       NaN   \n",
       "0RBITALIS                                                         NaN   \n",
       "1... 2... 3... KICK IT! (Drop That Beat Like an...                NaN   \n",
       "10 Second Ninja                                                   NaN   \n",
       "10,000,000                                                        NaN   \n",
       "\n",
       "game                                                1000 Amps  \\\n",
       "game                                                            \n",
       "007 Legends                                               NaN   \n",
       "0RBITALIS                                                 NaN   \n",
       "1... 2... 3... KICK IT! (Drop That Beat Like an...        NaN   \n",
       "10 Second Ninja                                           NaN   \n",
       "10,000,000                                                NaN   \n",
       "\n",
       "game                                                12 Labours of Hercules  \\\n",
       "game                                                                         \n",
       "007 Legends                                                            NaN   \n",
       "0RBITALIS                                                              NaN   \n",
       "1... 2... 3... KICK IT! (Drop That Beat Like an...                     NaN   \n",
       "10 Second Ninja                                                        NaN   \n",
       "10,000,000                                                             NaN   \n",
       "\n",
       "game                                                12 Labours of Hercules II The Cretan Bull  \\\n",
       "game                                                                                            \n",
       "007 Legends                                                                               NaN   \n",
       "0RBITALIS                                                                                 NaN   \n",
       "1... 2... 3... KICK IT! (Drop That Beat Like an...                                        NaN   \n",
       "10 Second Ninja                                                                           NaN   \n",
       "10,000,000                                                                                NaN   \n",
       "\n",
       "game                                                12 Labours of Hercules III Girl Power  \\\n",
       "game                                                                                        \n",
       "007 Legends                                                                           NaN   \n",
       "0RBITALIS                                                                             NaN   \n",
       "1... 2... 3... KICK IT! (Drop That Beat Like an...                                    NaN   \n",
       "10 Second Ninja                                                                       NaN   \n",
       "10,000,000                                                                            NaN   \n",
       "\n",
       "game                                                ...  rFactor  rFactor 2  \\\n",
       "game                                                ...                       \n",
       "007 Legends                                         ...      NaN        NaN   \n",
       "0RBITALIS                                           ...      NaN        NaN   \n",
       "1... 2... 3... KICK IT! (Drop That Beat Like an...  ...      NaN        NaN   \n",
       "10 Second Ninja                                     ...      NaN        NaN   \n",
       "10,000,000                                          ...      NaN        NaN   \n",
       "\n",
       "game                                                realMyst  \\\n",
       "game                                                           \n",
       "007 Legends                                              NaN   \n",
       "0RBITALIS                                                NaN   \n",
       "1... 2... 3... KICK IT! (Drop That Beat Like an...       NaN   \n",
       "10 Second Ninja                                          NaN   \n",
       "10,000,000                                               NaN   \n",
       "\n",
       "game                                                realMyst Masterpiece Edition  \\\n",
       "game                                                                               \n",
       "007 Legends                                                                  NaN   \n",
       "0RBITALIS                                                                    NaN   \n",
       "1... 2... 3... KICK IT! (Drop That Beat Like an...                           NaN   \n",
       "10 Second Ninja                                                              NaN   \n",
       "10,000,000                                                                   NaN   \n",
       "\n",
       "game                                                resident evil 4 / biohazard 4  \\\n",
       "game                                                                                \n",
       "007 Legends                                                                   NaN   \n",
       "0RBITALIS                                                                     NaN   \n",
       "1... 2... 3... KICK IT! (Drop That Beat Like an...                            NaN   \n",
       "10 Second Ninja                                                               NaN   \n",
       "10,000,000                                                                    NaN   \n",
       "\n",
       "game                                                rymdkapsel  sZone-Online  \\\n",
       "game                                                                           \n",
       "007 Legends                                                NaN           NaN   \n",
       "0RBITALIS                                                  NaN           NaN   \n",
       "1... 2... 3... KICK IT! (Drop That Beat Like an...         NaN           NaN   \n",
       "10 Second Ninja                                            NaN           NaN   \n",
       "10,000,000                                                 NaN           NaN   \n",
       "\n",
       "game                                                the static speaks my name  \\\n",
       "game                                                                            \n",
       "007 Legends                                                               NaN   \n",
       "0RBITALIS                                                                 NaN   \n",
       "1... 2... 3... KICK IT! (Drop That Beat Like an...                        NaN   \n",
       "10 Second Ninja                                                           NaN   \n",
       "10,000,000                                                                NaN   \n",
       "\n",
       "game                                                theHunter  \\\n",
       "game                                                            \n",
       "007 Legends                                               NaN   \n",
       "0RBITALIS                                                 NaN   \n",
       "1... 2... 3... KICK IT! (Drop That Beat Like an...        NaN   \n",
       "10 Second Ninja                                           NaN   \n",
       "10,000,000                                                NaN   \n",
       "\n",
       "game                                                theHunter Primal  \n",
       "game                                                                  \n",
       "007 Legends                                                      NaN  \n",
       "0RBITALIS                                                        NaN  \n",
       "1... 2... 3... KICK IT! (Drop That Beat Like an...               NaN  \n",
       "10 Second Ninja                                                  NaN  \n",
       "10,000,000                                                       NaN  \n",
       "\n",
       "[5 rows x 3600 columns]"
      ],
      "text/html": "<div>\n<style scoped>\n    .dataframe tbody tr th:only-of-type {\n        vertical-align: middle;\n    }\n\n    .dataframe tbody tr th {\n        vertical-align: top;\n    }\n\n    .dataframe thead th {\n        text-align: right;\n    }\n</style>\n<table border=\"1\" class=\"dataframe\">\n  <thead>\n    <tr style=\"text-align: right;\">\n      <th>game</th>\n      <th>007 Legends</th>\n      <th>0RBITALIS</th>\n      <th>1... 2... 3... KICK IT! (Drop That Beat Like an Ugly Baby)</th>\n      <th>10 Second Ninja</th>\n      <th>10,000,000</th>\n      <th>100% Orange Juice</th>\n      <th>1000 Amps</th>\n      <th>12 Labours of Hercules</th>\n      <th>12 Labours of Hercules II The Cretan Bull</th>\n      <th>12 Labours of Hercules III Girl Power</th>\n      <th>...</th>\n      <th>rFactor</th>\n      <th>rFactor 2</th>\n      <th>realMyst</th>\n      <th>realMyst Masterpiece Edition</th>\n      <th>resident evil 4 / biohazard 4</th>\n      <th>rymdkapsel</th>\n      <th>sZone-Online</th>\n      <th>the static speaks my name</th>\n      <th>theHunter</th>\n      <th>theHunter Primal</th>\n    </tr>\n    <tr>\n      <th>game</th>\n      <th></th>\n      <th></th>\n      <th></th>\n      <th></th>\n      <th></th>\n      <th></th>\n      <th></th>\n      <th></th>\n      <th></th>\n      <th></th>\n      <th></th>\n      <th></th>\n      <th></th>\n      <th></th>\n      <th></th>\n      <th></th>\n      <th></th>\n      <th></th>\n      <th></th>\n      <th></th>\n      <th></th>\n    </tr>\n  </thead>\n  <tbody>\n    <tr>\n      <th>007 Legends</th>\n      <td>NaN</td>\n      <td>NaN</td>\n      <td>NaN</td>\n      <td>NaN</td>\n      <td>NaN</td>\n      <td>NaN</td>\n      <td>NaN</td>\n      <td>NaN</td>\n      <td>NaN</td>\n      <td>NaN</td>\n      <td>...</td>\n      <td>NaN</td>\n      <td>NaN</td>\n      <td>NaN</td>\n      <td>NaN</td>\n      <td>NaN</td>\n      <td>NaN</td>\n      <td>NaN</td>\n      <td>NaN</td>\n      <td>NaN</td>\n      <td>NaN</td>\n    </tr>\n    <tr>\n      <th>0RBITALIS</th>\n      <td>NaN</td>\n      <td>NaN</td>\n      <td>NaN</td>\n      <td>NaN</td>\n      <td>NaN</td>\n      <td>NaN</td>\n      <td>NaN</td>\n      <td>NaN</td>\n      <td>NaN</td>\n      <td>NaN</td>\n      <td>...</td>\n      <td>NaN</td>\n      <td>NaN</td>\n      <td>NaN</td>\n      <td>NaN</td>\n      <td>NaN</td>\n      <td>NaN</td>\n      <td>NaN</td>\n      <td>NaN</td>\n      <td>NaN</td>\n      <td>NaN</td>\n    </tr>\n    <tr>\n      <th>1... 2... 3... KICK IT! (Drop That Beat Like an Ugly Baby)</th>\n      <td>NaN</td>\n      <td>NaN</td>\n      <td>NaN</td>\n      <td>NaN</td>\n      <td>NaN</td>\n      <td>NaN</td>\n      <td>NaN</td>\n      <td>NaN</td>\n      <td>NaN</td>\n      <td>NaN</td>\n      <td>...</td>\n      <td>NaN</td>\n      <td>NaN</td>\n      <td>NaN</td>\n      <td>NaN</td>\n      <td>NaN</td>\n      <td>NaN</td>\n      <td>NaN</td>\n      <td>NaN</td>\n      <td>NaN</td>\n      <td>NaN</td>\n    </tr>\n    <tr>\n      <th>10 Second Ninja</th>\n      <td>NaN</td>\n      <td>NaN</td>\n      <td>NaN</td>\n      <td>NaN</td>\n      <td>NaN</td>\n      <td>NaN</td>\n      <td>NaN</td>\n      <td>NaN</td>\n      <td>NaN</td>\n      <td>NaN</td>\n      <td>...</td>\n      <td>NaN</td>\n      <td>NaN</td>\n      <td>NaN</td>\n      <td>NaN</td>\n      <td>NaN</td>\n      <td>NaN</td>\n      <td>NaN</td>\n      <td>NaN</td>\n      <td>NaN</td>\n      <td>NaN</td>\n    </tr>\n    <tr>\n      <th>10,000,000</th>\n      <td>NaN</td>\n      <td>NaN</td>\n      <td>NaN</td>\n      <td>NaN</td>\n      <td>NaN</td>\n      <td>NaN</td>\n      <td>NaN</td>\n      <td>NaN</td>\n      <td>NaN</td>\n      <td>NaN</td>\n      <td>...</td>\n      <td>NaN</td>\n      <td>NaN</td>\n      <td>NaN</td>\n      <td>NaN</td>\n      <td>NaN</td>\n      <td>NaN</td>\n      <td>NaN</td>\n      <td>NaN</td>\n      <td>NaN</td>\n      <td>NaN</td>\n    </tr>\n  </tbody>\n</table>\n<p>5 rows × 3600 columns</p>\n</div>"
     },
     "metadata": {},
     "execution_count": 7
    }
   ],
   "source": [
    "corrMatrix = userRatings.corr(method='pearson', min_periods=20)\n",
    "corrMatrix.head()"
   ]
  },
  {
   "cell_type": "code",
   "execution_count": 8,
   "metadata": {},
   "outputs": [
    {
     "output_type": "execute_result",
     "data": {
      "text/plain": [
       "       userId                                   game  hourPlayed  rating\n",
       "1   151603712             The Elder Scrolls V Skyrim       273.0       5\n",
       "3   151603712                              Fallout 4        87.0       5\n",
       "5   151603712                                  Spore        14.9       4\n",
       "7   151603712                      Fallout New Vegas        12.1       4\n",
       "9   151603712                          Left 4 Dead 2         8.9       3\n",
       "11  151603712                               HuniePop         8.5       3\n",
       "13  151603712                          Path of Exile         8.1       3\n",
       "15  151603712                            Poly Bridge         7.5       3\n",
       "17  151603712                            Left 4 Dead         3.3       2\n",
       "19  151603712                        Team Fortress 2         2.8       2\n",
       "21  151603712                            Tomb Raider         2.5       2\n",
       "23  151603712                        The Banner Saga         2.0       2\n",
       "25  151603712                   Dead Island Epidemic         1.4       2\n",
       "27  151603712                      BioShock Infinite         1.3       2\n",
       "29  151603712  Dragon Age Origins - Ultimate Edition         1.3       2\n",
       "31  151603712   Fallout 3 - Game of the Year Edition         0.8       1\n",
       "33  151603712     SEGA Genesis & Mega Drive Classics         0.8       1\n",
       "35  151603712                    Grand Theft Auto IV         0.6       1\n",
       "37  151603712                   Realm of the Mad God         0.5       1\n",
       "39  151603712                     Marvel Heroes 2015         0.5       1\n",
       "41  151603712                                Eldevin         0.5       1\n",
       "43  151603712                                 Dota 2         0.5       1\n",
       "45  151603712                               BioShock         0.5       1\n",
       "47  151603712                              Robocraft         0.4       1\n",
       "49  151603712                            Garry's Mod         0.1       1\n",
       "51  151603712                               Jazzpunk         0.1       1"
      ],
      "text/html": "<div>\n<style scoped>\n    .dataframe tbody tr th:only-of-type {\n        vertical-align: middle;\n    }\n\n    .dataframe tbody tr th {\n        vertical-align: top;\n    }\n\n    .dataframe thead th {\n        text-align: right;\n    }\n</style>\n<table border=\"1\" class=\"dataframe\">\n  <thead>\n    <tr style=\"text-align: right;\">\n      <th></th>\n      <th>userId</th>\n      <th>game</th>\n      <th>hourPlayed</th>\n      <th>rating</th>\n    </tr>\n  </thead>\n  <tbody>\n    <tr>\n      <th>1</th>\n      <td>151603712</td>\n      <td>The Elder Scrolls V Skyrim</td>\n      <td>273.0</td>\n      <td>5</td>\n    </tr>\n    <tr>\n      <th>3</th>\n      <td>151603712</td>\n      <td>Fallout 4</td>\n      <td>87.0</td>\n      <td>5</td>\n    </tr>\n    <tr>\n      <th>5</th>\n      <td>151603712</td>\n      <td>Spore</td>\n      <td>14.9</td>\n      <td>4</td>\n    </tr>\n    <tr>\n      <th>7</th>\n      <td>151603712</td>\n      <td>Fallout New Vegas</td>\n      <td>12.1</td>\n      <td>4</td>\n    </tr>\n    <tr>\n      <th>9</th>\n      <td>151603712</td>\n      <td>Left 4 Dead 2</td>\n      <td>8.9</td>\n      <td>3</td>\n    </tr>\n    <tr>\n      <th>11</th>\n      <td>151603712</td>\n      <td>HuniePop</td>\n      <td>8.5</td>\n      <td>3</td>\n    </tr>\n    <tr>\n      <th>13</th>\n      <td>151603712</td>\n      <td>Path of Exile</td>\n      <td>8.1</td>\n      <td>3</td>\n    </tr>\n    <tr>\n      <th>15</th>\n      <td>151603712</td>\n      <td>Poly Bridge</td>\n      <td>7.5</td>\n      <td>3</td>\n    </tr>\n    <tr>\n      <th>17</th>\n      <td>151603712</td>\n      <td>Left 4 Dead</td>\n      <td>3.3</td>\n      <td>2</td>\n    </tr>\n    <tr>\n      <th>19</th>\n      <td>151603712</td>\n      <td>Team Fortress 2</td>\n      <td>2.8</td>\n      <td>2</td>\n    </tr>\n    <tr>\n      <th>21</th>\n      <td>151603712</td>\n      <td>Tomb Raider</td>\n      <td>2.5</td>\n      <td>2</td>\n    </tr>\n    <tr>\n      <th>23</th>\n      <td>151603712</td>\n      <td>The Banner Saga</td>\n      <td>2.0</td>\n      <td>2</td>\n    </tr>\n    <tr>\n      <th>25</th>\n      <td>151603712</td>\n      <td>Dead Island Epidemic</td>\n      <td>1.4</td>\n      <td>2</td>\n    </tr>\n    <tr>\n      <th>27</th>\n      <td>151603712</td>\n      <td>BioShock Infinite</td>\n      <td>1.3</td>\n      <td>2</td>\n    </tr>\n    <tr>\n      <th>29</th>\n      <td>151603712</td>\n      <td>Dragon Age Origins - Ultimate Edition</td>\n      <td>1.3</td>\n      <td>2</td>\n    </tr>\n    <tr>\n      <th>31</th>\n      <td>151603712</td>\n      <td>Fallout 3 - Game of the Year Edition</td>\n      <td>0.8</td>\n      <td>1</td>\n    </tr>\n    <tr>\n      <th>33</th>\n      <td>151603712</td>\n      <td>SEGA Genesis &amp; Mega Drive Classics</td>\n      <td>0.8</td>\n      <td>1</td>\n    </tr>\n    <tr>\n      <th>35</th>\n      <td>151603712</td>\n      <td>Grand Theft Auto IV</td>\n      <td>0.6</td>\n      <td>1</td>\n    </tr>\n    <tr>\n      <th>37</th>\n      <td>151603712</td>\n      <td>Realm of the Mad God</td>\n      <td>0.5</td>\n      <td>1</td>\n    </tr>\n    <tr>\n      <th>39</th>\n      <td>151603712</td>\n      <td>Marvel Heroes 2015</td>\n      <td>0.5</td>\n      <td>1</td>\n    </tr>\n    <tr>\n      <th>41</th>\n      <td>151603712</td>\n      <td>Eldevin</td>\n      <td>0.5</td>\n      <td>1</td>\n    </tr>\n    <tr>\n      <th>43</th>\n      <td>151603712</td>\n      <td>Dota 2</td>\n      <td>0.5</td>\n      <td>1</td>\n    </tr>\n    <tr>\n      <th>45</th>\n      <td>151603712</td>\n      <td>BioShock</td>\n      <td>0.5</td>\n      <td>1</td>\n    </tr>\n    <tr>\n      <th>47</th>\n      <td>151603712</td>\n      <td>Robocraft</td>\n      <td>0.4</td>\n      <td>1</td>\n    </tr>\n    <tr>\n      <th>49</th>\n      <td>151603712</td>\n      <td>Garry's Mod</td>\n      <td>0.1</td>\n      <td>1</td>\n    </tr>\n    <tr>\n      <th>51</th>\n      <td>151603712</td>\n      <td>Jazzpunk</td>\n      <td>0.1</td>\n      <td>1</td>\n    </tr>\n  </tbody>\n</table>\n</div>"
     },
     "metadata": {},
     "execution_count": 8
    }
   ],
   "source": [
    "df.loc[(df['userId']==151603712)]"
   ]
  },
  {
   "cell_type": "code",
   "execution_count": 9,
   "metadata": {},
   "outputs": [
    {
     "output_type": "execute_result",
     "data": {
      "text/plain": [
       "       userId                                   game  hourPlayed  rating\n",
       "1   151603712             The Elder Scrolls V Skyrim       273.0       5\n",
       "3   151603712                              Fallout 4        87.0       5\n",
       "5   151603712                                  Spore        14.9       4\n",
       "7   151603712                      Fallout New Vegas        12.1       4\n",
       "9   151603712                          Left 4 Dead 2         8.9       3\n",
       "11  151603712                               HuniePop         8.5       3\n",
       "13  151603712                          Path of Exile         8.1       3\n",
       "15  151603712                            Poly Bridge         7.5       3\n",
       "17  151603712                            Left 4 Dead         3.3       2\n",
       "19  151603712                        Team Fortress 2         2.8       2\n",
       "21  151603712                            Tomb Raider         2.5       2\n",
       "23  151603712                        The Banner Saga         2.0       2\n",
       "25  151603712                   Dead Island Epidemic         1.4       2\n",
       "27  151603712                      BioShock Infinite         1.3       2\n",
       "29  151603712  Dragon Age Origins - Ultimate Edition         1.3       2\n",
       "31  151603712   Fallout 3 - Game of the Year Edition         0.8       1\n",
       "33  151603712     SEGA Genesis & Mega Drive Classics         0.8       1\n",
       "35  151603712                    Grand Theft Auto IV         0.6       1\n",
       "37  151603712                   Realm of the Mad God         0.5       1\n",
       "39  151603712                     Marvel Heroes 2015         0.5       1\n",
       "41  151603712                                Eldevin         0.5       1\n",
       "43  151603712                                 Dota 2         0.5       1\n",
       "45  151603712                               BioShock         0.5       1\n",
       "47  151603712                              Robocraft         0.4       1\n",
       "49  151603712                            Garry's Mod         0.1       1\n",
       "51  151603712                               Jazzpunk         0.1       1"
      ],
      "text/html": "<div>\n<style scoped>\n    .dataframe tbody tr th:only-of-type {\n        vertical-align: middle;\n    }\n\n    .dataframe tbody tr th {\n        vertical-align: top;\n    }\n\n    .dataframe thead th {\n        text-align: right;\n    }\n</style>\n<table border=\"1\" class=\"dataframe\">\n  <thead>\n    <tr style=\"text-align: right;\">\n      <th></th>\n      <th>userId</th>\n      <th>game</th>\n      <th>hourPlayed</th>\n      <th>rating</th>\n    </tr>\n  </thead>\n  <tbody>\n    <tr>\n      <th>1</th>\n      <td>151603712</td>\n      <td>The Elder Scrolls V Skyrim</td>\n      <td>273.0</td>\n      <td>5</td>\n    </tr>\n    <tr>\n      <th>3</th>\n      <td>151603712</td>\n      <td>Fallout 4</td>\n      <td>87.0</td>\n      <td>5</td>\n    </tr>\n    <tr>\n      <th>5</th>\n      <td>151603712</td>\n      <td>Spore</td>\n      <td>14.9</td>\n      <td>4</td>\n    </tr>\n    <tr>\n      <th>7</th>\n      <td>151603712</td>\n      <td>Fallout New Vegas</td>\n      <td>12.1</td>\n      <td>4</td>\n    </tr>\n    <tr>\n      <th>9</th>\n      <td>151603712</td>\n      <td>Left 4 Dead 2</td>\n      <td>8.9</td>\n      <td>3</td>\n    </tr>\n    <tr>\n      <th>11</th>\n      <td>151603712</td>\n      <td>HuniePop</td>\n      <td>8.5</td>\n      <td>3</td>\n    </tr>\n    <tr>\n      <th>13</th>\n      <td>151603712</td>\n      <td>Path of Exile</td>\n      <td>8.1</td>\n      <td>3</td>\n    </tr>\n    <tr>\n      <th>15</th>\n      <td>151603712</td>\n      <td>Poly Bridge</td>\n      <td>7.5</td>\n      <td>3</td>\n    </tr>\n    <tr>\n      <th>17</th>\n      <td>151603712</td>\n      <td>Left 4 Dead</td>\n      <td>3.3</td>\n      <td>2</td>\n    </tr>\n    <tr>\n      <th>19</th>\n      <td>151603712</td>\n      <td>Team Fortress 2</td>\n      <td>2.8</td>\n      <td>2</td>\n    </tr>\n    <tr>\n      <th>21</th>\n      <td>151603712</td>\n      <td>Tomb Raider</td>\n      <td>2.5</td>\n      <td>2</td>\n    </tr>\n    <tr>\n      <th>23</th>\n      <td>151603712</td>\n      <td>The Banner Saga</td>\n      <td>2.0</td>\n      <td>2</td>\n    </tr>\n    <tr>\n      <th>25</th>\n      <td>151603712</td>\n      <td>Dead Island Epidemic</td>\n      <td>1.4</td>\n      <td>2</td>\n    </tr>\n    <tr>\n      <th>27</th>\n      <td>151603712</td>\n      <td>BioShock Infinite</td>\n      <td>1.3</td>\n      <td>2</td>\n    </tr>\n    <tr>\n      <th>29</th>\n      <td>151603712</td>\n      <td>Dragon Age Origins - Ultimate Edition</td>\n      <td>1.3</td>\n      <td>2</td>\n    </tr>\n    <tr>\n      <th>31</th>\n      <td>151603712</td>\n      <td>Fallout 3 - Game of the Year Edition</td>\n      <td>0.8</td>\n      <td>1</td>\n    </tr>\n    <tr>\n      <th>33</th>\n      <td>151603712</td>\n      <td>SEGA Genesis &amp; Mega Drive Classics</td>\n      <td>0.8</td>\n      <td>1</td>\n    </tr>\n    <tr>\n      <th>35</th>\n      <td>151603712</td>\n      <td>Grand Theft Auto IV</td>\n      <td>0.6</td>\n      <td>1</td>\n    </tr>\n    <tr>\n      <th>37</th>\n      <td>151603712</td>\n      <td>Realm of the Mad God</td>\n      <td>0.5</td>\n      <td>1</td>\n    </tr>\n    <tr>\n      <th>39</th>\n      <td>151603712</td>\n      <td>Marvel Heroes 2015</td>\n      <td>0.5</td>\n      <td>1</td>\n    </tr>\n    <tr>\n      <th>41</th>\n      <td>151603712</td>\n      <td>Eldevin</td>\n      <td>0.5</td>\n      <td>1</td>\n    </tr>\n    <tr>\n      <th>43</th>\n      <td>151603712</td>\n      <td>Dota 2</td>\n      <td>0.5</td>\n      <td>1</td>\n    </tr>\n    <tr>\n      <th>45</th>\n      <td>151603712</td>\n      <td>BioShock</td>\n      <td>0.5</td>\n      <td>1</td>\n    </tr>\n    <tr>\n      <th>47</th>\n      <td>151603712</td>\n      <td>Robocraft</td>\n      <td>0.4</td>\n      <td>1</td>\n    </tr>\n    <tr>\n      <th>49</th>\n      <td>151603712</td>\n      <td>Garry's Mod</td>\n      <td>0.1</td>\n      <td>1</td>\n    </tr>\n    <tr>\n      <th>51</th>\n      <td>151603712</td>\n      <td>Jazzpunk</td>\n      <td>0.1</td>\n      <td>1</td>\n    </tr>\n  </tbody>\n</table>\n</div>"
     },
     "metadata": {},
     "execution_count": 9
    }
   ],
   "source": [
    "\n",
    "myRatings = df.loc[df['userId']==151603712].dropna()\n",
    "myRatings"
   ]
  },
  {
   "cell_type": "code",
   "execution_count": 10,
   "metadata": {},
   "outputs": [
    {
     "output_type": "execute_result",
     "data": {
      "text/plain": [
       "'Fallout 4'"
      ]
     },
     "metadata": {},
     "execution_count": 10
    }
   ],
   "source": [
    "myRatings = myRatings.set_index('game')\n",
    "myRatings.index[1]"
   ]
  },
  {
   "cell_type": "code",
   "execution_count": 11,
   "metadata": {},
   "outputs": [
    {
     "output_type": "execute_result",
     "data": {
      "text/plain": [
       "5.0"
      ]
     },
     "metadata": {},
     "execution_count": 11
    }
   ],
   "source": [
    "myRatings.iloc[1]['rating']"
   ]
  },
  {
   "cell_type": "code",
   "execution_count": 12,
   "metadata": {},
   "outputs": [
    {
     "output_type": "stream",
     "name": "stderr",
     "text": [
      "<ipython-input-12-6441c191804d>:1: DeprecationWarning: The default dtype for empty Series will be 'object' instead of 'float64' in a future version. Specify a dtype explicitly to silence this warning.\n",
      "  similar_candidates = pd.Series()\n",
      "Adding similar movies for The Elder Scrolls V Skyrim...\n",
      "Adding similar movies for Fallout 4...\n",
      "Adding similar movies for Spore...\n",
      "Adding similar movies for Fallout New Vegas...\n",
      "Adding similar movies for Left 4 Dead 2...\n",
      "Adding similar movies for HuniePop...\n",
      "Adding similar movies for Path of Exile...\n",
      "Adding similar movies for Poly Bridge...\n",
      "Adding similar movies for Left 4 Dead...\n",
      "Adding similar movies for Team Fortress 2...\n",
      "Adding similar movies for Tomb Raider...\n",
      "Adding similar movies for The Banner Saga...\n",
      "Adding similar movies for Dead Island Epidemic...\n",
      "Adding similar movies for BioShock Infinite...\n",
      "Adding similar movies for Dragon Age Origins - Ultimate Edition...\n",
      "Adding similar movies for Fallout 3 - Game of the Year Edition...\n",
      "Adding similar movies for SEGA Genesis & Mega Drive Classics...\n",
      "Adding similar movies for Grand Theft Auto IV...\n",
      "Adding similar movies for Realm of the Mad God...\n",
      "Adding similar movies for Marvel Heroes 2015...\n",
      "Adding similar movies for Eldevin...\n",
      "Adding similar movies for Dota 2...\n",
      "Adding similar movies for BioShock...\n",
      "Adding similar movies for Robocraft...\n",
      "Adding similar movies for Garry's Mod...\n",
      "Adding similar movies for Jazzpunk...\n",
      "Sort recommendations...\n"
     ]
    },
    {
     "output_type": "execute_result",
     "data": {
      "text/plain": [
       "Fallout 4                                      5.000000\n",
       "The Elder Scrolls V Skyrim                     5.000000\n",
       "Spore                                          4.000000\n",
       "Fallout New Vegas                              4.000000\n",
       "Call of Duty Advanced Warfare - Multiplayer    3.125602\n",
       "Path of Exile                                  3.000000\n",
       "Left 4 Dead 2                                  3.000000\n",
       "HuniePop                                       3.000000\n",
       "Sniper Elite 3                                 2.910127\n",
       "Risen 2 - Dark Waters                          2.780710\n",
       "dtype: float64"
      ]
     },
     "metadata": {},
     "execution_count": 12
    }
   ],
   "source": [
    "similar_candidates = pd.Series()\n",
    "for i in range(0, len(myRatings.index)):\n",
    "    print(\"Adding similar movies for \" + myRatings.index[i] + \"...\")\n",
    "    # retrieve similar movies to this one that I rated\n",
    "    similar_movies = corrMatrix[myRatings.index[i]].dropna()\n",
    "    # scale its similarity by how well I rated this movie\n",
    "    similar_movies = similar_movies.map(lambda x: x * myRatings.iloc[i]['rating'])\n",
    "    # add the score to the list of similar candidates\n",
    "    similar_candidates = similar_candidates.append(similar_movies)\n",
    "    \n",
    "print(\"Sort recommendations...\")\n",
    "similar_candidates.sort_values(inplace = True, ascending = False)\n",
    "similar_candidates.head(10)"
   ]
  },
  {
   "cell_type": "code",
   "execution_count": 13,
   "metadata": {},
   "outputs": [],
   "source": [
    "similar_candidates = similar_candidates.groupby(similar_candidates.index).sum()\n",
    "similar_candidates = similar_candidates.drop(similar_candidates.loc[similar_candidates.index.isin(myRatings.index)].index)"
   ]
  },
  {
   "cell_type": "code",
   "execution_count": 14,
   "metadata": {},
   "outputs": [
    {
     "output_type": "execute_result",
     "data": {
      "text/plain": [
       "Borderlands 2                   7.702678\n",
       "Dishonored                      7.429950\n",
       "Deus Ex Human Revolution        7.241825\n",
       "Warframe                        6.868136\n",
       "The Witcher Enhanced Edition    6.644322\n",
       "Torchlight                      6.598597\n",
       "Crysis                          6.349068\n",
       "Natural Selection 2             6.210442\n",
       "Half-Life                       6.203457\n",
       "Heroes & Generals               6.187664\n",
       "dtype: float64"
      ]
     },
     "metadata": {},
     "execution_count": 14
    }
   ],
   "source": [
    "similar_candidates.sort_values(inplace = True, ascending = False)\n",
    "similar_candidates.head(10)"
   ]
  },
  {
   "cell_type": "code",
   "execution_count": 15,
   "metadata": {},
   "outputs": [],
   "source": [
    "compression_opts = dict(method='zip', archive_name='outCorr.csv')  \n",
    "corrMatrix.to_csv('out.zip', index=True, compression=compression_opts)  "
   ]
  },
  {
   "cell_type": "code",
   "execution_count": 16,
   "metadata": {},
   "outputs": [],
   "source": [
    "corrMatrix.to_pickle(\"./corrMatrix.pkl\")"
   ]
  }
 ]
}